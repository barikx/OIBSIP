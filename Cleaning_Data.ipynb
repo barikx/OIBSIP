{
  "nbformat": 4,
  "nbformat_minor": 0,
  "metadata": {
    "colab": {
      "provenance": []
    },
    "kernelspec": {
      "name": "python3",
      "display_name": "Python 3"
    },
    "language_info": {
      "name": "python"
    }
  },
  "cells": [
    {
      "cell_type": "markdown",
      "source": [
        "# Data Integrity:\n",
        "Ensuring the accuracy, consistency, and reliability of data throughout the\n",
        "cleaning process."
      ],
      "metadata": {
        "id": "tZKsDRsMvu56"
      }
    },
    {
      "cell_type": "code",
      "execution_count": 1,
      "metadata": {
        "colab": {
          "base_uri": "https://localhost:8080/"
        },
        "id": "yPEugHpo1Gwy",
        "outputId": "400972a9-c30a-4cdc-f4cc-f8df23389279"
      },
      "outputs": [
        {
          "output_type": "stream",
          "name": "stdout",
          "text": [
            "<class 'pandas.core.frame.DataFrame'>\n",
            "RangeIndex: 48895 entries, 0 to 48894\n",
            "Data columns (total 16 columns):\n",
            " #   Column                          Non-Null Count  Dtype  \n",
            "---  ------                          --------------  -----  \n",
            " 0   id                              48895 non-null  int64  \n",
            " 1   name                            48879 non-null  object \n",
            " 2   host_id                         48895 non-null  int64  \n",
            " 3   host_name                       48874 non-null  object \n",
            " 4   neighbourhood_group             48895 non-null  object \n",
            " 5   neighbourhood                   48895 non-null  object \n",
            " 6   latitude                        48895 non-null  float64\n",
            " 7   longitude                       48895 non-null  float64\n",
            " 8   room_type                       48895 non-null  object \n",
            " 9   price                           48895 non-null  int64  \n",
            " 10  minimum_nights                  48895 non-null  int64  \n",
            " 11  number_of_reviews               48895 non-null  int64  \n",
            " 12  last_review                     38843 non-null  object \n",
            " 13  reviews_per_month               38843 non-null  float64\n",
            " 14  calculated_host_listings_count  48895 non-null  int64  \n",
            " 15  availability_365                48895 non-null  int64  \n",
            "dtypes: float64(3), int64(7), object(6)\n",
            "memory usage: 6.0+ MB\n"
          ]
        },
        {
          "output_type": "execute_result",
          "data": {
            "text/plain": [
              "((48895, 16),\n",
              " id                                    0\n",
              " name                                 16\n",
              " host_id                               0\n",
              " host_name                            21\n",
              " neighbourhood_group                   0\n",
              " neighbourhood                         0\n",
              " latitude                              0\n",
              " longitude                             0\n",
              " room_type                             0\n",
              " price                                 0\n",
              " minimum_nights                        0\n",
              " number_of_reviews                     0\n",
              " last_review                       10052\n",
              " reviews_per_month                 10052\n",
              " calculated_host_listings_count        0\n",
              " availability_365                      0\n",
              " dtype: int64,\n",
              " np.int64(0),\n",
              "      id                                              name  host_id  \\\n",
              " 0  2539                Clean & quiet apt home by the park     2787   \n",
              " 1  2595                             Skylit Midtown Castle     2845   \n",
              " 2  3647               THE VILLAGE OF HARLEM....NEW YORK !     4632   \n",
              " 3  3831                   Cozy Entire Floor of Brownstone     4869   \n",
              " 4  5022  Entire Apt: Spacious Studio/Loft by central park     7192   \n",
              " \n",
              "      host_name neighbourhood_group neighbourhood  latitude  longitude  \\\n",
              " 0         John            Brooklyn    Kensington  40.64749  -73.97237   \n",
              " 1     Jennifer           Manhattan       Midtown  40.75362  -73.98377   \n",
              " 2    Elisabeth           Manhattan        Harlem  40.80902  -73.94190   \n",
              " 3  LisaRoxanne            Brooklyn  Clinton Hill  40.68514  -73.95976   \n",
              " 4        Laura           Manhattan   East Harlem  40.79851  -73.94399   \n",
              " \n",
              "          room_type  price  minimum_nights  number_of_reviews last_review  \\\n",
              " 0     Private room    149               1                  9  2018-10-19   \n",
              " 1  Entire home/apt    225               1                 45  2019-05-21   \n",
              " 2     Private room    150               3                  0         NaN   \n",
              " 3  Entire home/apt     89               1                270  2019-07-05   \n",
              " 4  Entire home/apt     80              10                  9  2018-11-19   \n",
              " \n",
              "    reviews_per_month  calculated_host_listings_count  availability_365  \n",
              " 0               0.21                               6               365  \n",
              " 1               0.38                               2               355  \n",
              " 2                NaN                               1               365  \n",
              " 3               4.64                               1               194  \n",
              " 4               0.10                               1                 0  )"
            ]
          },
          "metadata": {},
          "execution_count": 1
        }
      ],
      "source": [
        "import pandas as pd\n",
        "\n",
        "# Load the dataset\n",
        "file_path = \"/AB_NYC_2019.csv\"\n",
        "df = pd.read_csv(file_path)\n",
        "\n",
        "# Show basic info and first few rows\n",
        "basic_info = df.info()\n",
        "head = df.head()\n",
        "\n",
        "# Count missing values\n",
        "missing_values = df.isnull().sum()\n",
        "\n",
        "# Identify duplicates\n",
        "duplicate_count = df.duplicated().sum()\n",
        "\n",
        "df.shape, missing_values, duplicate_count, head"
      ]
    },
    {
      "cell_type": "markdown",
      "source": [
        "# Missing Data Handling:\n",
        "Dealing with missing values by either imputing them or making\n",
        "informed decisions on how to handle gaps in the dataset."
      ],
      "metadata": {
        "id": "gYo-PxNuv29m"
      }
    },
    {
      "cell_type": "code",
      "source": [
        "# Fill missing 'name' and 'host_name' with \"Unknown\"\n",
        "df['name'] = df['name'].fillna(\"Unknown\")\n",
        "df['host_name'] = df['host_name'].fillna(\"Unknown\")\n",
        "\n",
        "# Ensure 'last_review' is datetime\n",
        "df['last_review'] = pd.to_datetime(df['last_review'], errors='coerce')\n",
        "\n",
        "# Drop rows where 'last_review' is null\n",
        "df = df.dropna(subset=['last_review'])\n",
        "\n",
        "# Confirm all missing values are handled now\n",
        "cleaned_missing = df.isnull().sum()\n",
        "\n",
        "# Show updated data types and a few rows to confirm\n",
        "dtypes = df.dtypes\n",
        "sample_rows = df[['name', 'host_name', 'last_review', 'reviews_per_month']].head()\n",
        "\n",
        "cleaned_missing, dtypes, sample_rows"
      ],
      "metadata": {
        "colab": {
          "base_uri": "https://localhost:8080/"
        },
        "id": "LtqaEM1V1ncZ",
        "outputId": "852e08c0-a4fd-4470-f0f5-2cf92d26eeac"
      },
      "execution_count": 2,
      "outputs": [
        {
          "output_type": "execute_result",
          "data": {
            "text/plain": [
              "(id                                0\n",
              " name                              0\n",
              " host_id                           0\n",
              " host_name                         0\n",
              " neighbourhood_group               0\n",
              " neighbourhood                     0\n",
              " latitude                          0\n",
              " longitude                         0\n",
              " room_type                         0\n",
              " price                             0\n",
              " minimum_nights                    0\n",
              " number_of_reviews                 0\n",
              " last_review                       0\n",
              " reviews_per_month                 0\n",
              " calculated_host_listings_count    0\n",
              " availability_365                  0\n",
              " dtype: int64,\n",
              " id                                         int64\n",
              " name                                      object\n",
              " host_id                                    int64\n",
              " host_name                                 object\n",
              " neighbourhood_group                       object\n",
              " neighbourhood                             object\n",
              " latitude                                 float64\n",
              " longitude                                float64\n",
              " room_type                                 object\n",
              " price                                      int64\n",
              " minimum_nights                             int64\n",
              " number_of_reviews                          int64\n",
              " last_review                       datetime64[ns]\n",
              " reviews_per_month                        float64\n",
              " calculated_host_listings_count             int64\n",
              " availability_365                           int64\n",
              " dtype: object,\n",
              "                                                name    host_name last_review  \\\n",
              " 0                Clean & quiet apt home by the park         John  2018-10-19   \n",
              " 1                             Skylit Midtown Castle     Jennifer  2019-05-21   \n",
              " 3                   Cozy Entire Floor of Brownstone  LisaRoxanne  2019-07-05   \n",
              " 4  Entire Apt: Spacious Studio/Loft by central park        Laura  2018-11-19   \n",
              " 5         Large Cozy 1 BR Apartment In Midtown East        Chris  2019-06-22   \n",
              " \n",
              "    reviews_per_month  \n",
              " 0               0.21  \n",
              " 1               0.38  \n",
              " 3               4.64  \n",
              " 4               0.10  \n",
              " 5               0.59  )"
            ]
          },
          "metadata": {},
          "execution_count": 2
        }
      ]
    },
    {
      "cell_type": "markdown",
      "source": [
        "# Duplicate Removal:\n",
        "Identifying and eliminating duplicate records to maintain data\n",
        "uniqueness."
      ],
      "metadata": {
        "id": "ZgRZxux7wHOj"
      }
    },
    {
      "cell_type": "code",
      "source": [
        "df.duplicated().sum()"
      ],
      "metadata": {
        "colab": {
          "base_uri": "https://localhost:8080/"
        },
        "id": "-JdMjvQVv97w",
        "outputId": "ac3e207a-9304-40b7-8ad4-f88bb7ff1da9"
      },
      "execution_count": 6,
      "outputs": [
        {
          "output_type": "execute_result",
          "data": {
            "text/plain": [
              "np.int64(0)"
            ]
          },
          "metadata": {},
          "execution_count": 6
        }
      ]
    },
    {
      "cell_type": "markdown",
      "source": [
        "# Standardization:\n",
        "Consistent formatting and units across the dataset for accurate analysis."
      ],
      "metadata": {
        "id": "OizwVX6kwMya"
      }
    },
    {
      "cell_type": "code",
      "source": [
        "from sklearn.preprocessing import StandardScaler\n",
        "\n",
        "# Select numerical columns for standardization (excluding ID-like columns)\n",
        "numeric_cols = ['latitude', 'longitude', 'price', 'minimum_nights',\n",
        "                'number_of_reviews', 'reviews_per_month',\n",
        "                'calculated_host_listings_count', 'availability_365']\n",
        "\n",
        "# Initialize the scaler\n",
        "scaler = StandardScaler()\n",
        "\n",
        "# Apply standardization\n",
        "standardized_data = scaler.fit_transform(df[numeric_cols])\n",
        "\n",
        "# Convert the result back to DataFrame for readability\n",
        "standardized_df = pd.DataFrame(standardized_data, columns=[f\"{col}_scaled\" for col in numeric_cols])\n",
        "\n",
        "# Show summary statistics of the scaled features\n",
        "standardized_summary = standardized_df.describe()\n",
        "\n",
        "standardized_df.head(), standardized_summary"
      ],
      "metadata": {
        "colab": {
          "base_uri": "https://localhost:8080/"
        },
        "id": "JGEOdBcD1zz6",
        "outputId": "80e66563-de92-4582-aebb-d2ca896a8644"
      },
      "execution_count": 3,
      "outputs": [
        {
          "output_type": "execute_result",
          "data": {
            "text/plain": [
              "(   latitude_scaled  longitude_scaled  price_scaled  minimum_nights_scaled  \\\n",
              " 0        -1.466526         -0.454489      0.033929              -0.280022   \n",
              " 1         0.463475         -0.698632      0.419827              -0.280022   \n",
              " 2        -0.781851         -0.184433     -0.270728              -0.280022   \n",
              " 3         1.279811          0.153298     -0.316426               0.237679   \n",
              " 4         0.355272         -0.510814      0.292887              -0.164977   \n",
              " \n",
              "    number_of_reviews_scaled  reviews_per_month_scaled  \\\n",
              " 0                 -0.421236                 -0.692221   \n",
              " 1                  0.325873                 -0.591055   \n",
              " 2                  4.995303                  1.944025   \n",
              " 3                 -0.421236                 -0.757680   \n",
              " 4                  0.927711                 -0.466087   \n",
              " \n",
              "    calculated_host_listings_count_scaled  availability_365_scaled  \n",
              " 0                               0.031775                 1.930781  \n",
              " 1                              -0.120343                 1.853585  \n",
              " 2                              -0.158373                 0.610745  \n",
              " 3                              -0.158373                -0.886839  \n",
              " 4                              -0.158373                 0.108977  ,\n",
              "        latitude_scaled  longitude_scaled  price_scaled  minimum_nights_scaled  \\\n",
              " count     3.884300e+04      3.884300e+04  3.884300e+04           3.884300e+04   \n",
              " mean      1.162478e-13     -1.078215e-13  1.609756e-17          -1.170732e-17   \n",
              " std       1.000013e+00      1.000013e+00  1.000013e+00           1.000013e+00   \n",
              " min      -4.032102e+00     -6.280727e+00 -7.226349e-01          -2.800220e-01   \n",
              " 25%      -7.182030e-01     -6.707915e-01 -3.722799e-01          -2.800220e-01   \n",
              " 50%      -1.168167e-01     -7.820933e-02 -2.097964e-01          -2.224997e-01   \n",
              " 75%       6.338706e-01      3.454002e-01  1.405586e-01          -1.074550e-01   \n",
              " max       3.362932e+00      5.100406e+00  5.005346e+01           7.156534e+01   \n",
              " \n",
              "        number_of_reviews_scaled  reviews_per_month_scaled  \\\n",
              " count              38843.000000              3.884300e+04   \n",
              " mean                   0.000000             -1.170732e-17   \n",
              " std                    1.000013              1.000013e+00   \n",
              " min                   -0.587260             -8.112383e-01   \n",
              " 25%                   -0.545754             -7.041223e-01   \n",
              " 50%                   -0.421236             -3.887250e-01   \n",
              " 75%                    0.076837              3.848909e-01   \n",
              " max                   12.445638              3.399553e+01   \n",
              " \n",
              "        calculated_host_listings_count_scaled  availability_365_scaled  \n",
              " count                           3.884300e+04             3.884300e+04  \n",
              " mean                           -5.853659e-18            -1.170732e-17  \n",
              " std                             1.000013e+00             1.000013e+00  \n",
              " min                            -1.583725e-01            -8.868391e-01  \n",
              " 25%                            -1.583725e-01            -8.868391e-01  \n",
              " 50%                            -1.583725e-01            -4.622663e-01  \n",
              " 75%                            -1.203429e-01             8.809277e-01  \n",
              " max                             1.223927e+01             1.930781e+00  )"
            ]
          },
          "metadata": {},
          "execution_count": 3
        }
      ]
    },
    {
      "cell_type": "markdown",
      "source": [
        "latitude / longitude → Geographic coordinates are bounded by the city’s geography; outlier handling is more about geographic filtering (e.g., outside NYC) than IQR.\n",
        "\n",
        "availability_365 → Already bounded between 0 and 365, and values near extremes are valid (0 = unavailable, 365 = fully available).\n",
        "\n",
        "calculated_host_listings_count → Could be skewed, but very high values may be legitimate for property managers."
      ],
      "metadata": {
        "id": "Vmjp33IT4Mij"
      }
    },
    {
      "cell_type": "markdown",
      "source": [
        "# Outlier Detection:\n",
        "Identifying and addressing outliers that may skew analysis or model\n",
        "performance."
      ],
      "metadata": {
        "id": "UhwB8vCdwv6F"
      }
    },
    {
      "cell_type": "code",
      "source": [
        "import numpy as np\n",
        "\n",
        "# Use IQR method to detect outliers for selected numeric features\n",
        "outlier_flags = {}\n",
        "outlier_counts = {}\n",
        "\n",
        "for col in ['price', 'minimum_nights', 'number_of_reviews', 'reviews_per_month']:\n",
        "    Q1 = df[col].quantile(0.25)\n",
        "    Q3 = df[col].quantile(0.75)\n",
        "    IQR = Q3 - Q1\n",
        "    lower_bound = Q1 - 1.5 * IQR\n",
        "    upper_bound = Q3 + 1.5 * IQR\n",
        "\n",
        "    # Identify outliers\n",
        "    outliers = (df[col] < lower_bound) | (df[col] > upper_bound)\n",
        "    outlier_flags[col] = outliers\n",
        "    outlier_counts[col] = outliers.sum()\n",
        "\n",
        "outlier_counts"
      ],
      "metadata": {
        "colab": {
          "base_uri": "https://localhost:8080/"
        },
        "id": "HLAvnOfQ3NSb",
        "outputId": "2f7f62e5-860c-4937-c0b6-d1b512ba4c33"
      },
      "execution_count": 7,
      "outputs": [
        {
          "output_type": "execute_result",
          "data": {
            "text/plain": [
              "{'price': np.int64(2077),\n",
              " 'minimum_nights': np.int64(4464),\n",
              " 'number_of_reviews': np.int64(4237),\n",
              " 'reviews_per_month': np.int64(1793)}"
            ]
          },
          "metadata": {},
          "execution_count": 7
        }
      ]
    }
  ]
}